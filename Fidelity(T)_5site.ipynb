{
 "cells": [
  {
   "cell_type": "code",
   "execution_count": 1,
   "metadata": {},
   "outputs": [],
   "source": [
    "%matplotlib inline\n",
    "import numpy as np\n",
    "import scipy.linalg\n",
    "import scipy.sparse.linalg\n",
    "import matplotlib.pyplot as plt\n",
    "import time"
   ]
  },
  {
   "cell_type": "markdown",
   "metadata": {},
   "source": [
    "# Pauli operater & Identity operater"
   ]
  },
  {
   "cell_type": "code",
   "execution_count": 2,
   "metadata": {
    "collapsed": false,
    "jupyter": {
     "outputs_hidden": false
    }
   },
   "outputs": [
    {
     "name": "stdout",
     "output_type": "stream",
     "text": [
      "Pauli X：　\n",
      "[[0 1]\n",
      " [1 0]]\n",
      "\n",
      "Pauli Z：　\n",
      "[[ 1  0]\n",
      " [ 0 -1]]\n",
      "\n",
      "Identity I：　\n",
      "[[1 0]\n",
      " [0 1]]\n",
      "\n"
     ]
    }
   ],
   "source": [
    "X=np.array([[0,1],[1,0]])\n",
    "Z=np.array([[1,0],[0,-1]])\n",
    "I=np.array([[1,0],[0,1]])\n",
    "print(\"Pauli X：　\\n{}\\n\".format(X))\n",
    "print(\"Pauli Z：　\\n{}\\n\".format(Z))\n",
    "print(\"Identity I：　\\n{}\\n\".format(I))"
   ]
  },
  {
   "cell_type": "markdown",
   "metadata": {},
   "source": [
    "# Stabillizer operater "
   ]
  },
  {
   "cell_type": "code",
   "execution_count": 3,
   "metadata": {
    "collapsed": false,
    "jupyter": {
     "outputs_hidden": false
    }
   },
   "outputs": [
    {
     "name": "stdout",
     "output_type": "stream",
     "text": [
      "Stabillizer演算子 K1：　\n",
      "[[0 0 0 ... 0 0 0]\n",
      " [0 0 0 ... 0 0 0]\n",
      " [0 0 0 ... 0 0 0]\n",
      " ...\n",
      " [0 0 0 ... 0 0 0]\n",
      " [0 0 0 ... 0 0 0]\n",
      " [0 0 0 ... 0 0 0]]\n",
      "\n",
      "Stabillizer演算子 K2：　\n",
      "[[0 0 0 ... 0 0 0]\n",
      " [0 0 0 ... 0 0 0]\n",
      " [0 0 0 ... 0 0 0]\n",
      " ...\n",
      " [0 0 0 ... 0 0 0]\n",
      " [0 0 0 ... 0 0 0]\n",
      " [0 0 0 ... 0 0 0]]\n",
      "\n",
      "Stabillizer演算子 K3：　\n",
      "[[0 0 0 ... 0 0 0]\n",
      " [0 0 0 ... 0 0 0]\n",
      " [0 0 0 ... 0 0 0]\n",
      " ...\n",
      " [0 0 0 ... 0 0 0]\n",
      " [0 0 0 ... 0 0 0]\n",
      " [0 0 0 ... 0 0 0]]\n",
      "\n",
      "Stabillizer演算子 K4：　\n",
      "[[0 0 1 ... 0 0 0]\n",
      " [0 0 0 ... 0 0 0]\n",
      " [1 0 0 ... 0 0 0]\n",
      " ...\n",
      " [0 0 0 ... 0 0 1]\n",
      " [0 0 0 ... 0 0 0]\n",
      " [0 0 0 ... 1 0 0]]\n",
      "\n",
      "Stabillizer演算子 K5：　\n",
      "[[ 0  1  0 ...  0  0  0]\n",
      " [ 1  0  0 ...  0  0  0]\n",
      " [ 0  0  0 ...  0  0  0]\n",
      " ...\n",
      " [ 0  0  0 ...  0  0  0]\n",
      " [ 0  0  0 ...  0  0 -1]\n",
      " [ 0  0  0 ...  0 -1  0]]\n",
      "\n"
     ]
    }
   ],
   "source": [
    "K1=np.kron(np.kron(np.kron(np.kron(X,Z),I),I),I)\n",
    "K2=np.kron(np.kron(np.kron(np.kron(Z,X),Z),I),I)\n",
    "K3=np.kron(np.kron(np.kron(np.kron(I,Z),X),Z),I)\n",
    "K4=np.kron(np.kron(np.kron(np.kron(I,I),Z),X),Z)\n",
    "K5=np.kron(np.kron(np.kron(np.kron(I,I),I),Z),X)\n",
    "print(\"Stabillizer演算子 K1：　\\n{}\\n\".format(K1));\n",
    "print(\"Stabillizer演算子 K2：　\\n{}\\n\".format(K2));\n",
    "print(\"Stabillizer演算子 K3：　\\n{}\\n\".format(K3));\n",
    "print(\"Stabillizer演算子 K4：　\\n{}\\n\".format(K4));\n",
    "print(\"Stabillizer演算子 K5：　\\n{}\\n\".format(K5));"
   ]
  },
  {
   "cell_type": "markdown",
   "metadata": {},
   "source": [
    "# Cluster Hamiltonian"
   ]
  },
  {
   "cell_type": "code",
   "execution_count": 4,
   "metadata": {
    "collapsed": false,
    "jupyter": {
     "outputs_hidden": false
    }
   },
   "outputs": [
    {
     "name": "stdout",
     "output_type": "stream",
     "text": [
      "Hamiltonian： \n",
      "[[ 0  1  1 ...  0  0  0]\n",
      " [ 1  0  0 ...  0  0  0]\n",
      " [ 1  0  0 ...  0  0  0]\n",
      " ...\n",
      " [ 0  0  0 ...  0  0  1]\n",
      " [ 0  0  0 ...  0  0 -1]\n",
      " [ 0  0  0 ...  1 -1  0]]\n",
      "\n"
     ]
    }
   ],
   "source": [
    "H=K1+K2+K3+K4+K5\n",
    "print(\"Hamiltonian： \\n{}\\n\".format(H))"
   ]
  },
  {
   "cell_type": "markdown",
   "metadata": {},
   "source": [
    "# Eigen value & Eigen vector"
   ]
  },
  {
   "cell_type": "code",
   "execution_count": 5,
   "metadata": {
    "collapsed": false,
    "jupyter": {
     "outputs_hidden": false
    }
   },
   "outputs": [
    {
     "name": "stdout",
     "output_type": "stream",
     "text": [
      "固有値： \n",
      "[-5. -3. -3. -3. -3. -3. -1. -1. -1. -1. -1. -1. -1. -1. -1. -1.  1.  1.\n",
      "  1.  1.  1.  1.  1.  1.  1.  1.  3.  3.  3.  3.  3.  5.]\n",
      "\n",
      "固有ベクトル： \n",
      "[-0.1767767  0.1767767  0.1767767  0.1767767  0.1767767 -0.1767767\n",
      "  0.1767767  0.1767767  0.1767767 -0.1767767 -0.1767767 -0.1767767\n",
      "  0.1767767 -0.1767767  0.1767767  0.1767767  0.1767767 -0.1767767\n",
      " -0.1767767 -0.1767767 -0.1767767  0.1767767 -0.1767767 -0.1767767\n",
      "  0.1767767 -0.1767767 -0.1767767 -0.1767767  0.1767767 -0.1767767\n",
      "  0.1767767  0.1767767]\n",
      "\n",
      "固有ベクトル： \n",
      "[ 0.00000000e+00  6.22923512e-02 -7.35324496e-02 -1.12400984e-02\n",
      " -1.58056835e-01  9.57644840e-02 -2.31589285e-01 -1.69296934e-01\n",
      "  2.80096609e-01 -3.42388961e-01 -2.06564160e-01 -2.68856511e-01\n",
      "  1.22039774e-01 -1.84332125e-01  4.85073245e-02  1.10799676e-01\n",
      " -1.10799676e-01  4.85073245e-02  1.84332125e-01  1.22039774e-01\n",
      "  2.68856511e-01 -2.06564160e-01  3.42388961e-01  2.80096609e-01\n",
      "  1.69296934e-01 -2.31589285e-01 -9.57644840e-02 -1.58056835e-01\n",
      "  1.12400984e-02 -7.35324496e-02 -6.22923512e-02 -1.38777878e-17]\n",
      "\n",
      "固有ベクトル： \n",
      "[ 0.00000000e+00 -6.32183291e-02 -2.21192674e-01 -2.84411004e-01\n",
      " -2.49628890e-02  8.81812181e-02 -2.46155563e-01 -3.09373893e-01\n",
      "  4.60637555e-02  1.71545736e-02  1.75128919e-01  2.38347248e-01\n",
      "  2.11008665e-02  4.21174626e-02 -2.00091808e-01 -2.63310137e-01\n",
      "  2.63310137e-01 -2.00091808e-01 -4.21174626e-02  2.11008665e-02\n",
      " -2.38347248e-01  1.75128919e-01 -1.71545736e-02  4.60637555e-02\n",
      "  3.09373893e-01 -2.46155563e-01 -8.81812181e-02 -2.49628890e-02\n",
      "  2.84411004e-01 -2.21192674e-01  6.32183291e-02 -1.38777878e-17]\n",
      "\n",
      "固有ベクトル： \n",
      "[ 0.39528471 -0.23717082 -0.23717082 -0.07905694 -0.23717082  0.07905694\n",
      " -0.07905694  0.07905694 -0.23717082  0.07905694  0.07905694 -0.07905694\n",
      " -0.07905694 -0.07905694  0.07905694  0.23717082 -0.23717082  0.07905694\n",
      "  0.07905694 -0.07905694  0.07905694  0.07905694 -0.07905694 -0.23717082\n",
      " -0.07905694 -0.07905694 -0.07905694 -0.23717082  0.07905694 -0.23717082\n",
      "  0.23717082  0.39528471]\n",
      "\n",
      "固有ベクトル： \n",
      "[ 0.00000000e+00  2.59658091e-01 -1.90774967e-01  6.88831240e-02\n",
      "  9.11583387e-02 -3.50816430e-01 -9.96166284e-02  1.60041463e-01\n",
      " -8.57700842e-02 -1.73888007e-01  2.76545051e-01  1.68869602e-02\n",
      "  5.38825443e-03 -2.65046345e-01 -1.85386713e-01  7.42713784e-02\n",
      " -7.42713784e-02 -1.85386713e-01  2.65046345e-01  5.38825443e-03\n",
      " -1.68869602e-02  2.76545051e-01  1.73888007e-01 -8.57700842e-02\n",
      " -1.60041463e-01 -9.96166284e-02  3.50816430e-01  9.11583387e-02\n",
      " -6.88831240e-02 -1.90774967e-01 -2.59658091e-01 -1.66533454e-16]\n",
      "\n",
      "固有ベクトル： \n",
      "[ 0.00000000e+00  1.57164823e-01  9.62896235e-02  2.53454447e-01\n",
      " -2.57070123e-01  9.99053003e-02 -1.60780500e-01 -3.61567675e-03\n",
      " -1.09852230e-01 -4.73125926e-02  1.35626070e-02 -1.43602216e-01\n",
      " -3.66922354e-01  2.09757531e-01 -2.70632730e-01 -1.13467907e-01\n",
      "  1.13467907e-01 -2.70632730e-01 -2.09757531e-01 -3.66922354e-01\n",
      "  1.43602216e-01  1.35626070e-02  4.73125926e-02 -1.09852230e-01\n",
      "  3.61567675e-03 -1.60780500e-01 -9.99053003e-02 -2.57070123e-01\n",
      " -2.53454447e-01  9.62896235e-02 -1.57164823e-01  2.77555756e-17]\n",
      "\n",
      "固有ベクトル： \n",
      "[ 0.00000000e+00  3.33592899e-01 -1.31814040e-01  3.19039633e-02\n",
      "  1.79708999e-03 -9.30685144e-02 -7.56757445e-02 -1.54279215e-01\n",
      " -1.31597944e-01 -3.05064618e-01  3.53021594e-01  8.62339261e-02\n",
      "  7.06382462e-02 -2.64979334e-01 -9.64441974e-02 -7.19780041e-02\n",
      " -7.19780041e-02  9.64441974e-02 -2.64979334e-01 -7.06382462e-02\n",
      "  8.62339261e-02 -3.53021594e-01 -3.05064618e-01  1.31597944e-01\n",
      " -1.54279215e-01  7.56757445e-02 -9.30685144e-02 -1.79708999e-03\n",
      "  3.19039633e-02  1.31814040e-01  3.33592899e-01 -1.11022302e-16]\n",
      "\n",
      "固有ベクトル： \n",
      "[-0.55901699  0.1118034   0.1118034  -0.1118034   0.1118034   0.1118034\n",
      " -0.1118034  -0.1118034   0.1118034   0.1118034   0.1118034   0.1118034\n",
      " -0.1118034   0.1118034  -0.1118034   0.1118034   0.1118034   0.1118034\n",
      "  0.1118034   0.1118034   0.1118034  -0.1118034   0.1118034  -0.1118034\n",
      " -0.1118034   0.1118034   0.1118034  -0.1118034  -0.1118034  -0.1118034\n",
      "  0.1118034   0.55901699]\n",
      "\n",
      "固有ベクトル： \n",
      "[ 0.00000000e+00  3.44351977e-01 -2.11993821e-01  9.06155615e-02\n",
      "  1.59701631e-02  7.83432477e-02  2.80385787e-03 -1.33252148e-01\n",
      " -5.88700900e-02 -5.99697718e-02 -1.01268581e-01 -1.78365848e-01\n",
      " -8.68562947e-02  4.06681821e-01  2.72109891e-01 -8.94582294e-02\n",
      " -8.94582294e-02 -2.72109891e-01  4.06681821e-01  8.68562947e-02\n",
      " -1.78365848e-01  1.01268581e-01 -5.99697718e-02  5.88700900e-02\n",
      " -1.33252148e-01 -2.80385787e-03  7.83432477e-02 -1.59701631e-02\n",
      "  9.06155615e-02  2.11993821e-01  3.44351977e-01 -1.31838984e-16]\n",
      "\n",
      "固有ベクトル： \n",
      "[ 0.00000000e+00  1.27851078e-02 -1.62695924e-01 -6.35586912e-02\n",
      "  2.28837008e-01 -3.50231978e-01 -5.05538836e-02  1.57193212e-01\n",
      " -2.90960074e-01  1.56461726e-01  3.82476946e-02 -1.82602778e-01\n",
      " -2.53443865e-01  1.03356547e-02 -1.17426453e-01  2.12033882e-01\n",
      "  2.12033882e-01  1.17426453e-01  1.03356547e-02  2.53443865e-01\n",
      " -1.82602778e-01 -3.82476946e-02  1.56461726e-01  2.90960074e-01\n",
      "  1.57193212e-01  5.05538836e-02 -3.50231978e-01 -2.28837008e-01\n",
      " -6.35586912e-02  1.62695924e-01  1.27851078e-02 -1.11022302e-16]\n",
      "\n",
      "固有ベクトル： \n",
      "[ 0.00000000e+00  2.94801369e-02  2.74329824e-01  1.64833333e-01\n",
      " -1.39940210e-01  1.74370020e-01 -1.95255069e-02 -1.92931944e-01\n",
      " -3.93878651e-01  1.71143123e-01  2.40613817e-02 -5.96975179e-02\n",
      " -5.74220141e-03 -1.53083380e-01  2.10159947e-01  2.30008900e-01\n",
      "  2.30008900e-01 -2.10159947e-01 -1.53083380e-01  5.74220141e-03\n",
      " -5.96975179e-02 -2.40613817e-02  1.71143123e-01  3.93878651e-01\n",
      " -1.92931944e-01  1.95255069e-02  1.74370020e-01  1.39940210e-01\n",
      "  1.64833333e-01 -2.74329824e-01  2.94801369e-02  5.55111512e-17]\n",
      "\n",
      "固有ベクトル： \n",
      "[ 0.00000000e+00 -8.17313003e-02  2.32352549e-01 -2.46466504e-02\n",
      "  1.86403777e-01  1.21478441e-01  4.42243866e-01 -4.09062516e-02\n",
      " -1.52785686e-01 -2.04702896e-01  9.63009047e-02 -8.59197776e-02\n",
      " -2.20281425e-01  8.89437616e-02 -1.40309104e-01 -1.84239340e-01\n",
      " -1.84239340e-01  1.40309104e-01  8.89437616e-02  2.20281425e-01\n",
      " -8.59197776e-02 -9.63009047e-02 -2.04702896e-01  1.52785686e-01\n",
      " -4.09062516e-02 -4.42243866e-01  1.21478441e-01 -1.86403777e-01\n",
      " -2.46466504e-02 -2.32352549e-01 -8.17313003e-02  5.55111512e-17]\n",
      "\n",
      "固有ベクトル： \n",
      "[ 0.00000000e+00  6.57201068e-02  1.12741113e-01  2.04675216e-01\n",
      " -3.33162568e-01  5.47121818e-02 -1.92467478e-01  1.12196904e-01\n",
      "  9.90704271e-02 -1.93639588e-01 -9.75730856e-02 -2.18356243e-01\n",
      " -3.04339151e-01 -2.96028943e-03 -2.77882516e-01  5.56309209e-02\n",
      "  5.56309209e-02  2.77882516e-01 -2.96028943e-03  3.04339151e-01\n",
      " -2.18356243e-01  9.75730856e-02 -1.93639588e-01 -9.90704271e-02\n",
      "  1.12196904e-01  1.92467478e-01  5.47121818e-02  3.33162568e-01\n",
      "  2.04675216e-01 -1.12741113e-01  6.57201068e-02  2.77555756e-17]\n",
      "\n",
      "固有ベクトル： \n",
      "[ 0.          0.15563675  0.16493165  0.38764358  0.01238955 -0.14638094\n",
      "  0.00138357  0.20245014 -0.0662282   0.26235073  0.08359369  0.21264104\n",
      "  0.07726607  0.14050181 -0.11603705 -0.26672975 -0.26672975  0.11603705\n",
      "  0.14050181 -0.07726607  0.21264104 -0.08359369  0.26235073  0.0662282\n",
      "  0.20245014 -0.00138357 -0.14638094 -0.01238955  0.38764358 -0.16493165\n",
      "  0.15563675  0.        ]\n",
      "\n",
      "固有ベクトル： \n",
      "[ 0.00000000e+00  1.59105497e-01  1.86772443e-01 -2.44162858e-01\n",
      " -1.33730833e-01 -2.99665478e-01  1.05196609e-02 -1.46124827e-01\n",
      " -3.81799607e-02 -7.15640215e-03 -3.17452186e-01  2.27252250e-01\n",
      " -2.16663722e-01 -1.02963455e-01  9.64464756e-02 -1.73967147e-01\n",
      " -1.73967147e-01 -9.64464756e-02 -1.02963455e-01  2.16663722e-01\n",
      "  2.27252250e-01  3.17452186e-01 -7.15640215e-03  3.81799607e-02\n",
      " -1.46124827e-01 -1.05196609e-02 -2.99665478e-01  1.33730833e-01\n",
      " -2.44162858e-01 -1.86772443e-01  1.59105497e-01 -1.11022302e-16]\n",
      "\n",
      "固有ベクトル： \n",
      "[ 0.00000000e+00  9.25659919e-02 -8.46888486e-02 -8.47276575e-02\n",
      " -2.53003921e-01  5.61785600e-02  2.42058743e-01  3.46279303e-01\n",
      "  2.03921089e-02 -3.59204635e-02  1.91103183e-01  2.68179630e-01\n",
      " -1.70704474e-01  5.09167504e-02  1.97551746e-01  2.24734669e-01\n",
      "  2.24734669e-01 -1.97551746e-01  5.09167504e-02  1.70704474e-01\n",
      "  2.68179630e-01 -1.91103183e-01 -3.59204635e-02 -2.03921089e-02\n",
      "  3.46279303e-01 -2.42058743e-01  5.61785600e-02  2.53003921e-01\n",
      " -8.47276575e-02  8.46888486e-02  9.25659919e-02 -5.89805982e-17]\n",
      "\n",
      "固有ベクトル： \n",
      "[ 0.55901699  0.1118034   0.1118034   0.1118034   0.1118034  -0.1118034\n",
      "  0.1118034  -0.1118034   0.1118034  -0.1118034  -0.1118034   0.1118034\n",
      "  0.1118034   0.1118034  -0.1118034  -0.1118034   0.1118034  -0.1118034\n",
      " -0.1118034   0.1118034  -0.1118034  -0.1118034   0.1118034   0.1118034\n",
      "  0.1118034   0.1118034   0.1118034   0.1118034  -0.1118034   0.1118034\n",
      " -0.1118034   0.55901699]\n",
      "\n",
      "固有ベクトル： \n",
      "[ 0.00000000e+00  2.81909814e-02 -1.21163646e-01  8.49793546e-02\n",
      " -1.40143537e-01 -3.84850426e-01 -4.45368398e-02 -1.92176739e-01\n",
      "  2.07407262e-01  1.82861216e-01 -6.93959586e-02  8.59486946e-02\n",
      " -2.86118744e-01  1.13251730e-02  3.15159546e-01 -2.57089393e-02\n",
      "  2.57089393e-02  3.15159546e-01 -1.13251730e-02 -2.86118744e-01\n",
      " -8.59486946e-02 -6.93959586e-02 -1.82861216e-01  2.07407262e-01\n",
      "  1.92176739e-01 -4.45368398e-02  3.84850426e-01 -1.40143537e-01\n",
      " -8.49793546e-02 -1.21163646e-01 -2.81909814e-02 -5.55111512e-17]\n",
      "\n",
      "固有ベクトル： \n",
      "[ 0.          0.0682345   0.20893234  0.09372552  0.22605238  0.11854642\n",
      " -0.12732567 -0.35107266 -0.1857171   0.0492501  -0.03763615  0.17356132\n",
      " -0.15374161 -0.21296834 -0.00583648  0.31750213 -0.31750213 -0.00583648\n",
      "  0.21296834 -0.15374161 -0.17356132 -0.03763615 -0.0492501  -0.1857171\n",
      "  0.35107266 -0.12732567 -0.11854642  0.22605238 -0.09372552  0.20893234\n",
      " -0.0682345   0.        ]\n",
      "\n",
      "固有ベクトル： \n",
      "[ 0.00000000e+00  7.65334454e-02  2.44041172e-01 -2.16757810e-01\n",
      " -1.83281280e-01 -2.57061221e-01 -1.30768374e-01 -4.68283752e-02\n",
      " -8.23032308e-02  3.34079777e-01 -1.48048483e-01 -1.64517717e-01\n",
      "  2.21506149e-01 -4.45634717e-02 -2.17242920e-01  5.49901067e-02\n",
      " -5.49901067e-02 -2.17242920e-01  4.45634717e-02  2.21506149e-01\n",
      "  1.64517717e-01 -1.48048483e-01 -3.34079777e-01 -8.23032308e-02\n",
      "  4.68283752e-02 -1.30768374e-01  2.57061221e-01 -1.83281280e-01\n",
      "  2.16757810e-01  2.44041172e-01 -7.65334454e-02 -8.32667268e-17]\n",
      "\n",
      "固有ベクトル： \n",
      "[ 0.         -0.02201697  0.07900941 -0.11787377 -0.23924238  0.09059831\n",
      "  0.27482208  0.11589994  0.27449579  0.01512203 -0.04813383  0.24662627\n",
      " -0.19160766 -0.28409155 -0.24561107  0.09224586 -0.09224586 -0.24561107\n",
      "  0.28409155 -0.19160766 -0.24662627 -0.04813383 -0.01512203  0.27449579\n",
      " -0.11589994  0.27482208 -0.09059831 -0.23924238  0.11787377  0.07900941\n",
      "  0.02201697  0.        ]\n",
      "\n",
      "固有ベクトル： \n",
      "[ 0.00000000e+00  1.64430202e-01  2.37439994e-02 -1.62583173e-01\n",
      " -4.74609752e-03  1.76349099e-02  1.64342271e-02 -1.96442488e-02\n",
      "  2.30008086e-01 -4.79219952e-03  2.65418028e-01 -5.02671363e-03\n",
      "  1.09734939e-02  3.87822974e-01 -1.09956806e-02  4.13436190e-01\n",
      " -4.13436190e-01 -1.09956806e-02 -3.87822974e-01  1.09734939e-02\n",
      "  5.02671363e-03  2.65418028e-01  4.79219952e-03  2.30008086e-01\n",
      "  1.96442488e-02  1.64342271e-02 -1.76349099e-02 -4.74609752e-03\n",
      "  1.62583173e-01  2.37439994e-02 -1.64430202e-01 -7.28583860e-17]\n",
      "\n",
      "固有ベクトル： \n",
      "[ 0.00000000e+00 -8.71567483e-02 -4.30814626e-02  6.78784304e-02\n",
      "  3.44316904e-02 -5.60095679e-03  3.54396577e-01 -3.32069444e-01\n",
      "  3.71985328e-02  8.52658865e-02  2.67349734e-01 -3.77776868e-01\n",
      " -1.66523567e-02 -1.11843812e-01 -9.89432476e-02 -5.86079876e-02\n",
      "  5.86079876e-02 -9.89432476e-02  1.11843812e-01 -1.66523567e-02\n",
      "  3.77776868e-01  2.67349734e-01 -8.52658865e-02  3.71985328e-02\n",
      "  3.32069444e-01  3.54396577e-01  5.60095679e-03  3.44316904e-02\n",
      " -6.78784304e-02 -4.30814626e-02  8.71567483e-02  4.33680869e-17]\n",
      "\n",
      "固有ベクトル： \n",
      "[ 0.00000000e+00 -9.98690656e-03 -1.36773821e-02  4.28125305e-01\n",
      " -1.41954721e-01  1.47802634e-01 -1.41527046e-01  2.68233844e-02\n",
      "  1.81388075e-01  2.61529232e-01  1.95081910e-01  1.29237949e-01\n",
      "  3.02046452e-01 -7.78389669e-02  8.80653265e-03  1.57690652e-02\n",
      " -1.57690652e-02  8.80653265e-03  7.78389669e-02  3.02046452e-01\n",
      " -1.29237949e-01  1.95081910e-01 -2.61529232e-01  1.81388075e-01\n",
      " -2.68233844e-02 -1.41527046e-01 -1.47802634e-01 -1.41954721e-01\n",
      " -4.28125305e-01 -1.36773821e-02  9.98690656e-03  8.32667268e-17]\n",
      "\n",
      "固有ベクトル： \n",
      "[ 0.00000000e+00  4.71177305e-01 -3.30124744e-01 -3.74145418e-02\n",
      " -3.16583361e-02  2.03115358e-01  1.76914835e-01 -4.57791603e-02\n",
      " -1.12184174e-01  1.87263093e-01 -1.98171407e-01  2.36215842e-03\n",
      "  5.54967001e-02 -7.54695551e-03  4.33843127e-02 -2.78994950e-03\n",
      "  2.78994950e-03  4.33843127e-02  7.54695551e-03  5.54967001e-02\n",
      " -2.36215842e-03 -1.98171407e-01 -1.87263093e-01 -1.12184174e-01\n",
      "  4.57791603e-02  1.76914835e-01 -2.03115358e-01 -3.16583361e-02\n",
      "  3.74145418e-02 -3.30124744e-01 -4.71177305e-01 -7.63278329e-17]\n",
      "\n",
      "固有ベクトル： \n",
      "[ 0.00000000e+00 -1.77386089e-01 -2.53532759e-01  8.59300144e-02\n",
      "  3.40690045e-01 -1.02246308e-02 -1.09459210e-01  1.03533368e-01\n",
      "  2.01482632e-01  2.03813614e-01 -2.24234331e-01 -1.23085485e-01\n",
      " -1.18369981e-01  5.28276237e-02 -2.85045058e-01  1.11253829e-01\n",
      " -1.11253829e-01 -2.85045058e-01 -5.28276237e-02 -1.18369981e-01\n",
      "  1.23085485e-01 -2.24234331e-01 -2.03813614e-01  2.01482632e-01\n",
      " -1.03533368e-01 -1.09459210e-01  1.02246308e-02  3.40690045e-01\n",
      " -8.59300144e-02 -2.53532759e-01  1.77386089e-01  6.93889390e-17]\n",
      "\n",
      "固有ベクトル： \n",
      "[ 0.         -0.0141188   0.05007494 -0.03595613  0.26819468  0.25407587\n",
      " -0.31826961  0.30415081 -0.19741258 -0.21153139 -0.14733765  0.16145645\n",
      " -0.07078209 -0.05666329  0.12085703 -0.10673822 -0.10673822 -0.12085703\n",
      " -0.05666329  0.07078209  0.16145645  0.14733765 -0.21153139  0.19741258\n",
      "  0.30415081  0.31826961  0.25407587 -0.26819468 -0.03595613 -0.05007494\n",
      " -0.0141188   0.        ]\n",
      "\n",
      "固有ベクトル： \n",
      "[ 0.00000000e+00  2.58272993e-01 -2.31971266e-01 -2.63017278e-02\n",
      "  1.82207778e-02  2.76493771e-01  2.13750488e-01  4.45225056e-02\n",
      " -6.20184491e-02  1.96254544e-01 -2.93989715e-01  3.57167213e-02\n",
      "  4.37976713e-02 -2.14475322e-01 -2.75768937e-01  1.74959435e-02\n",
      "  1.74959435e-02  2.75768937e-01 -2.14475322e-01 -4.37976713e-02\n",
      "  3.57167213e-02  2.93989715e-01  1.96254544e-01  6.20184491e-02\n",
      "  4.45225056e-02 -2.13750488e-01  2.76493771e-01 -1.82207778e-02\n",
      " -2.63017278e-02  2.31971266e-01  2.58272993e-01  8.32667268e-17]\n",
      "\n",
      "固有ベクトル： \n",
      "[ 0.          0.07217715  0.01055578 -0.08273293  0.02265269  0.09482984\n",
      " -0.03320846  0.10538562  0.18564815  0.2578253   0.19620393 -0.26838108\n",
      " -0.20830084 -0.28047799  0.21885662 -0.29103377 -0.29103377 -0.21885662\n",
      " -0.28047799  0.20830084 -0.26838108 -0.19620393  0.2578253  -0.18564815\n",
      "  0.10538562  0.03320846  0.09482984 -0.02265269 -0.08273293 -0.01055578\n",
      "  0.07217715  0.        ]\n",
      "\n",
      "固有ベクトル： \n",
      "[ 0.00000000e+00 -1.66991554e-01 -2.08735259e-01  3.75726813e-01\n",
      "  1.65004471e-01 -1.98708335e-03  4.37307882e-02 -2.10722342e-01\n",
      "  1.50720759e-01 -1.62707947e-02 -5.80144996e-02  2.25006054e-01\n",
      " -3.15725230e-01 -1.48733676e-01  1.06989971e-01  6.00015829e-02\n",
      "  6.00015829e-02 -1.06989971e-01 -1.48733676e-01  3.15725230e-01\n",
      "  2.25006054e-01  5.80144996e-02 -1.62707947e-02 -1.50720759e-01\n",
      " -2.10722342e-01 -4.37307882e-02 -1.98708335e-03 -1.65004471e-01\n",
      "  3.75726813e-01  2.08735259e-01 -1.66991554e-01  9.02056208e-17]\n",
      "\n",
      "固有ベクトル： \n",
      "[ 0.39528471  0.23717082  0.23717082 -0.07905694  0.23717082  0.07905694\n",
      " -0.07905694 -0.07905694  0.23717082  0.07905694  0.07905694  0.07905694\n",
      " -0.07905694  0.07905694 -0.07905694  0.23717082  0.23717082  0.07905694\n",
      "  0.07905694  0.07905694  0.07905694 -0.07905694  0.07905694 -0.23717082\n",
      " -0.07905694  0.07905694  0.07905694 -0.23717082 -0.07905694 -0.23717082\n",
      "  0.23717082 -0.39528471]\n",
      "\n",
      "固有ベクトル： \n",
      "[ 0.1767767  0.1767767  0.1767767 -0.1767767  0.1767767  0.1767767\n",
      " -0.1767767  0.1767767  0.1767767  0.1767767  0.1767767 -0.1767767\n",
      " -0.1767767 -0.1767767  0.1767767 -0.1767767  0.1767767  0.1767767\n",
      "  0.1767767 -0.1767767  0.1767767  0.1767767 -0.1767767  0.1767767\n",
      " -0.1767767 -0.1767767 -0.1767767  0.1767767  0.1767767  0.1767767\n",
      " -0.1767767  0.1767767]\n",
      "\n"
     ]
    }
   ],
   "source": [
    "Eval, Evec = scipy.linalg.eigh( H )\n",
    "print(\"固有値： \\n{}\\n\".format(Eval))\n",
    "for i in range(len(Evec)):\n",
    "    Evec [i] = Evec[i]/np.linalg.norm(Evec[i])\n",
    "    print(\"固有ベクトル： \\n{}\\n\".format(Evec[:,i]))"
   ]
  },
  {
   "cell_type": "markdown",
   "metadata": {},
   "source": [
    "# Cluster state "
   ]
  },
  {
   "cell_type": "code",
   "execution_count": 6,
   "metadata": {
    "collapsed": false,
    "jupyter": {
     "outputs_hidden": false
    }
   },
   "outputs": [
    {
     "name": "stdout",
     "output_type": "stream",
     "text": [
      "Cluster state：　\n",
      "[ 0.1767767  0.1767767  0.1767767 -0.1767767  0.1767767  0.1767767\n",
      " -0.1767767  0.1767767  0.1767767  0.1767767  0.1767767 -0.1767767\n",
      " -0.1767767 -0.1767767  0.1767767 -0.1767767  0.1767767  0.1767767\n",
      "  0.1767767 -0.1767767  0.1767767  0.1767767 -0.1767767  0.1767767\n",
      " -0.1767767 -0.1767767 -0.1767767  0.1767767  0.1767767  0.1767767\n",
      " -0.1767767  0.1767767]\n",
      "\n",
      "内積：　\n",
      "1.0000000000000002\n",
      "\n"
     ]
    }
   ],
   "source": [
    "G = Evec[:,len(Eval)-1]\n",
    "print(\"Cluster state：　\\n{}\\n\".format(G))\n",
    "np.dot(G,G)\n",
    "print(\"内積：　\\n{}\\n\".format(np.dot(G,G)))"
   ]
  },
  {
   "cell_type": "markdown",
   "metadata": {},
   "source": [
    "# Cluster state Fidelity"
   ]
  },
  {
   "cell_type": "code",
   "execution_count": 7,
   "metadata": {
    "collapsed": false,
    "jupyter": {
     "outputs_hidden": false
    }
   },
   "outputs": [
    {
     "data": {
      "image/png": "[encoded data removed]",
      "text/plain": [
       "<Figure size 432x288 with 1 Axes>"
      ]
     },
     "metadata": {
      "needs_background": "light"
     },
     "output_type": "display_data"
    },
    {
     "data": {
      "text/plain": [
       "<Figure size 432x288 with 0 Axes>"
      ]
     },
     "metadata": {},
     "output_type": "display_data"
    }
   ],
   "source": [
    "site = 5\n",
    "T = np.arange(0.01,50.1,0.1)\n",
    "Min = T*0 + 1/2**(site)\n",
    "Coef = (np.exp(1/T)+np.exp(-(1/T)))**site\n",
    "Prob = 0\n",
    "for i in range(len(Evec)):\n",
    "    Prob += np.exp(Eval[i]/T)*np.dot(G,Evec[:,i])**2 \n",
    "    Fid = Prob/Coef\n",
    "    Fid_Clus = []\n",
    "    for j in Fid:\n",
    "        if j > 0.001:\n",
    "            Fid_Clus.append(j)\n",
    "plt.grid(True)\n",
    "plt.title(\"5site\", fontsize=24)\n",
    "plt.xlabel(\"Temperature\", fontsize=24)\n",
    "plt.ylabel(\"Fidelity\", fontsize=24)\n",
    "plt.xlim(0,4.0)\n",
    "plt.ylim(0,1.0)\n",
    "plt.tick_params(labelsize = 16)\n",
    "plt.xticks([0.0,0.8,1.6,2.4,3.2,4.0])\n",
    "plt.plot(T,Fid_Clus, ls='solid', label=\"Cluster state Fidelity\")\n",
    "plt.plot(T,Min, ls='dashed', label=\"Minimum\")\n",
    "plt.legend(loc = \"best\", fontsize=12)\n",
    "plt.show()\n",
    "fig=plt.figure()"
   ]
  },
  {
   "cell_type": "markdown",
   "metadata": {},
   "source": [
    "# Gate Fidelity"
   ]
  },
  {
   "cell_type": "code",
   "execution_count": 8,
   "metadata": {
    "collapsed": false,
    "jupyter": {
     "outputs_hidden": false
    }
   },
   "outputs": [
    {
     "data": {
      "image/png": "[encoded data removed]",
      "text/plain": [
       "<Figure size 432x288 with 1 Axes>"
      ]
     },
     "metadata": {
      "needs_background": "light"
     },
     "output_type": "display_data"
    },
    {
     "name": "stdout",
     "output_type": "stream",
     "text": [
      "経過時間：0.1660449504852295\n"
     ]
    },
    {
     "data": {
      "text/plain": [
       "<Figure size 432x288 with 0 Axes>"
      ]
     },
     "metadata": {},
     "output_type": "display_data"
    }
   ],
   "source": [
    "t1 = time.time() \n",
    "# 処理後の時刻\n",
    "\n",
    "site = 5\n",
    "T = np.arange(0.01,4.1,0.1)\n",
    "Min = T*0 + 1/4\n",
    "Coef = (np.exp(1/T)+np.exp(-(1/T)))**site\n",
    "K_o = np.dot(np.dot(K1,K3),K5)\n",
    "K_e = np.dot(K2,K4)\n",
    "Corr_o = 0\n",
    "Corr_e = 0\n",
    "for i in range(len(Evec)):\n",
    "    Psi_o = np.dot(K_o,Evec[:,i])\n",
    "    Corr_o += (np.exp(Eval[i]/T))*np.dot(Evec[:,i],Psi_o)/Coef\n",
    "for i in range(len(Evec)):\n",
    "    Psi_e = np.dot(K_e,Evec[:,i])\n",
    "    Corr_e += (np.exp(Eval[i]/T))*np.dot(Evec[:,i],Psi_e)/Coef\n",
    "GF = (1+Corr_o)*(1+Corr_e)/4\n",
    "plt.grid(True)\n",
    "plt.title(\"5site\", fontsize=24)\n",
    "plt.xlabel(\"Temperature\", fontsize=24)\n",
    "plt.ylabel(\"Fidelity\", fontsize=24)\n",
    "plt.xlim(0,4.0)\n",
    "plt.ylim(0,1.0)\n",
    "plt.xticks([0.0,0.8,1.6,2.4,3.2,4.0])\n",
    "plt.tick_params(labelsize = 16)\n",
    "plt.plot(T,GF, ls='solid', label=\"Gate Fidelity\")\n",
    "plt.plot(T,Min, ls='dashed', label=\"Minimum\")\n",
    "plt.legend(loc = \"best\", fontsize=16)\n",
    "plt.show()\n",
    "fig=plt.figure()\n",
    "\n",
    "t2 = time.time()\n",
    "# 経過時間を表示\n",
    "elapsed_time = t2-t1\n",
    "print(f\"経過時間：{elapsed_time}\")"
   ]
  },
  {
   "cell_type": "markdown",
   "metadata": {},
   "source": [
    "# Confirmation"
   ]
  },
  {
   "cell_type": "code",
   "execution_count": 9,
   "metadata": {
    "collapsed": false,
    "jupyter": {
     "outputs_hidden": false
    }
   },
   "outputs": [
    {
     "name": "stderr",
     "output_type": "stream",
     "text": [
      "<ipython-input-9-cb2e1b78c3f5>:5: RuntimeWarning: divide by zero encountered in true_divide\n",
      "  b=(1/a)\n"
     ]
    },
    {
     "data": {
      "image/png": "[encoded data removed]",
      "text/plain": [
       "<Figure size 432x288 with 1 Axes>"
      ]
     },
     "metadata": {
      "needs_background": "light"
     },
     "output_type": "display_data"
    },
    {
     "data": {
      "text/plain": [
       "<Figure size 432x288 with 0 Axes>"
      ]
     },
     "metadata": {},
     "output_type": "display_data"
    }
   ],
   "source": [
    "site = 5\n",
    "T=np.arange(0,50,0.1)\n",
    "Min = T*0 + 1/4\n",
    "a=1*T\n",
    "b=(1/a)\n",
    "c=np.exp(1)**(-2*b)\n",
    "F5=(1+4*c**2+3*c**4)/(1+c)**site\n",
    "plt.grid(True)\n",
    "plt.title(\"5site\", fontsize=24)\n",
    "plt.xlabel(\"Temperature\", fontsize=24)\n",
    "plt.ylabel(\"Fidelity\", fontsize=24)\n",
    "plt.xlim(0,4.0)\n",
    "plt.ylim(0,1.0)\n",
    "plt.xticks([0.0,0.8,1.6,2.4,3.2,4.0])\n",
    "plt.tick_params(labelsize = 16)\n",
    "plt.plot(T,F5, ls='solid', label=\"Gate Fidelity\")\n",
    "plt.plot(T,Min, ls='dashed', label=\"Minimum\")\n",
    "plt.legend(loc = \"best\", fontsize=16)\n",
    "plt.show()\n",
    "fig=plt.figure()"
   ]
  },
  {
   "cell_type": "code",
   "execution_count": null,
   "metadata": {
    "collapsed": true,
    "jupyter": {
     "outputs_hidden": true
    }
   },
   "outputs": [],
   "source": []
  },
  {
   "cell_type": "code",
   "execution_count": null,
   "metadata": {
    "collapsed": true,
    "jupyter": {
     "outputs_hidden": true
    }
   },
   "outputs": [],
   "source": []
  }
 ],
 "metadata": {
  "anaconda-cloud": {},
  "kernelspec": {
   "display_name": "Python 3",
   "language": "python",
   "name": "python3"
  },
  "language_info": {
   "codemirror_mode": {
    "name": "ipython",
    "version": 3
   },
   "file_extension": ".py",
   "mimetype": "text/x-python",
   "name": "python",
   "nbconvert_exporter": "python",
   "pygments_lexer": "ipython3",
   "version": "3.8.5"
  }
 },
 "nbformat": 4,
 "nbformat_minor": 4
}
